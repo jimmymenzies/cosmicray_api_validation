{
 "cells": [
  {
   "cell_type": "markdown",
   "metadata": {},
   "source": [
    "A short script to convert a flight path file from .csv to the .DEG format expected by CARI-7\n"
   ]
  },
  {
   "cell_type": "code",
   "execution_count": 209,
   "metadata": {
    "collapsed": true
   },
   "outputs": [],
   "source": [
    "from datetime import datetime\n",
    "import numpy as np\n",
    "import time\n"
   ]
  },
  {
   "cell_type": "code",
   "execution_count": 210,
   "metadata": {
    "collapsed": false
   },
   "outputs": [],
   "source": [
    "waypoints = np.genfromtxt(\"./Flight_QF64.csv\", \\\n",
    "            dtype = \"i8, S50, S50, S50, S50, f8, f8, f8\", \\\n",
    "            names = ['timestamp', 'UTC', 'Callsign', 'Latitude', 'Longitude', 'Altitude', 'Speed', 'Direction'], \\\n",
    "            delimiter = \",\")\n"
   ]
  },
  {
   "cell_type": "code",
   "execution_count": 211,
   "metadata": {
    "collapsed": false
   },
   "outputs": [],
   "source": [
    "start_date=datetime.utcfromtimestamp(waypoints[0]['timestamp'])"
   ]
  },
  {
   "cell_type": "code",
   "execution_count": 212,
   "metadata": {
    "collapsed": false
   },
   "outputs": [],
   "source": [
    "header = np.str(start_date.month)+\"/\"+np.str(start_date.year)+\", \"+waypoints[0]['Callsign'].decode(\"utf-8\")+\"\\n\"\n"
   ]
  },
  {
   "cell_type": "code",
   "execution_count": 213,
   "metadata": {
    "collapsed": false
   },
   "outputs": [],
   "source": [
    "f = open('Flight_QF64.DEG', 'wb')"
   ]
  },
  {
   "cell_type": "code",
   "execution_count": 214,
   "metadata": {
    "collapsed": false
   },
   "outputs": [
    {
     "data": {
      "text/plain": [
       "14"
      ]
     },
     "execution_count": 214,
     "metadata": {},
     "output_type": "execute_result"
    }
   ],
   "source": [
    "f.write(header.encode('utf8'))"
   ]
  },
  {
   "cell_type": "code",
   "execution_count": 215,
   "metadata": {
    "collapsed": true
   },
   "outputs": [],
   "source": [
    "header = \"DEG MIN N/S DEG MIN E/W FEET TIME(MIN) \\n\""
   ]
  },
  {
   "cell_type": "code",
   "execution_count": 216,
   "metadata": {
    "collapsed": false
   },
   "outputs": [
    {
     "data": {
      "text/plain": [
       "40"
      ]
     },
     "execution_count": 216,
     "metadata": {},
     "output_type": "execute_result"
    }
   ],
   "source": [
    "f.write(header.encode('utf8'))"
   ]
  },
  {
   "cell_type": "code",
   "execution_count": 217,
   "metadata": {
    "collapsed": true
   },
   "outputs": [],
   "source": [
    "start_datetime = datetime.utcfromtimestamp(waypoints[0]['timestamp'])"
   ]
  },
  {
   "cell_type": "code",
   "execution_count": 218,
   "metadata": {
    "collapsed": false
   },
   "outputs": [],
   "source": [
    "for wp in waypoints:\n",
    "    #calculate time for this waypoint\n",
    "    datetime = datetime.utcfromtimestamp(wp['timestamp'])\n",
    "    #calculate time since last waypoint (will be zero for first one)\n",
    "    delta_datetime = datetime - start_datetime\n",
    "    delta_mins = np.int(delta_datetime.seconds/60) # expected by CARI-7\n",
    "    \n",
    "    #get the latitude as a string and remove the quotation mark\n",
    "    latitude = wp['Latitude'].decode(\"utf-8\").replace('\"','')\n",
    "    #convert to float and strip the degrees\n",
    "    lat_degs = np.int(float(latitude))\n",
    "    #the remainder will be fraction of degree, convert from decimal to minutes\n",
    "    lat_minsecs = (float(latitude) - lat_degs)*60\n",
    "    #determine the bearing, positive lat is North, negative is South\n",
    "    lat_bear = 'N'\n",
    "    if lat_degs < 0 : lat_bear = 'S'\n",
    "        \n",
    "    #repeat for longitude\n",
    "    longitude = wp['Longitude'].decode(\"utf-8\").replace('\"','')\n",
    "    #convert to float and strip the degrees\n",
    "    long_degs = np.int(float(longitude))\n",
    "    #the remainder will be fraction of degree, convert from decimal to minutes\n",
    "    long_minsecs = (float(longitude) - long_degs)*60\n",
    "    #determine the bearing, positive long is East, negative is West\n",
    "    long_bear = 'E'\n",
    "    if long_degs < 0 : long_bear = 'W'\n",
    "        \n",
    "    entry = np.str(np.abs(lat_degs)) + \", \" + np.str(np.abs(lat_minsecs)) + \", \" + lat_bear + \", \" + \\\n",
    "        np.str(np.abs(long_degs)) + \", \" + np.str(np.abs(long_minsecs)) + \", \" + long_bear + \", \" + \\\n",
    "        np.str(wp['Altitude']) + \", \" + np.str(delta_mins) + \"\\n\"\n",
    "        \n",
    "    f.write(entry.encode('utf8'))\n",
    "        \n",
    "        \n",
    "    \n",
    "    \n",
    "    "
   ]
  },
  {
   "cell_type": "code",
   "execution_count": 219,
   "metadata": {
    "collapsed": false
   },
   "outputs": [],
   "source": [
    "f.close()    \n"
   ]
  }
 ],
 "metadata": {
  "kernelspec": {
   "display_name": "Python 3",
   "language": "python",
   "name": "python3"
  },
  "language_info": {
   "codemirror_mode": {
    "name": "ipython",
    "version": 3
   },
   "file_extension": ".py",
   "mimetype": "text/x-python",
   "name": "python",
   "nbconvert_exporter": "python",
   "pygments_lexer": "ipython3",
   "version": "3.5.3"
  }
 },
 "nbformat": 4,
 "nbformat_minor": 2
}
